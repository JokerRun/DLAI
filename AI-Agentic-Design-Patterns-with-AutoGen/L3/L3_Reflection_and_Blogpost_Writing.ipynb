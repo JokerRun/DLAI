{
 "cells": [
  {
   "cell_type": "markdown",
   "id": "fc3024e2",
   "metadata": {},
   "source": [
    "# Lesson 3: Reflection and Blogpost Writing"
   ]
  },
  {
   "cell_type": "markdown",
   "id": "3b0cc42f",
   "metadata": {},
   "source": [
    "## Setup"
   ]
  },
  {
   "cell_type": "code",
   "execution_count": 1,
   "id": "96d39be0-eaf3-456d-8613-ba21099ed36b",
   "metadata": {},
   "outputs": [],
   "source": [
    "from utils import get_openai_api_key\n",
    "import os\n",
    "OPENAI_API_KEY = get_openai_api_key()\n",
    "llm_config = {\"model\": os.getenv('CHAT_MODEL'), \"base_url\": os.getenv('OPENAI_API_BASE')}"
   ]
  },
  {
   "cell_type": "markdown",
   "id": "0969e6bb",
   "metadata": {},
   "source": [
    "## The task!"
   ]
  },
  {
   "cell_type": "code",
   "execution_count": 2,
   "id": "e8074032-3690-4de9-ad08-ea8323cb441b",
   "metadata": {},
   "outputs": [],
   "source": [
    "task = '''\n",
    "        撰写一篇简洁而引人入胜的博客文章，主题为\n",
    "       DeepLearning.AI。确保博客文章在\n",
    "       100个字以内。\n",
    "       '''\n"
   ]
  },
  {
   "cell_type": "markdown",
   "id": "1987f023",
   "metadata": {},
   "source": [
    "## Create a writer agent"
   ]
  },
  {
   "cell_type": "code",
   "execution_count": 3,
   "id": "fe0f0a47-a9fe-43a0-b7b1-79922e4c4ac8",
   "metadata": {},
   "outputs": [],
   "source": [
    "import autogen\n",
    "\n",
    "writer = autogen.AssistantAgent(\n",
    "    name=\"Writer\",\n",
    "    system_message=\"你是一位作家。你需要撰写引人入胜且简洁的博客文章（包含标题），主题由给定内容决定。你必须根据收到的反馈来润色你的写作，并提供一个精炼的版本。只返回你的最终作品，不附加任何评论。\",\n",
    "    llm_config=llm_config,\n",
    ")"
   ]
  },
  {
   "cell_type": "code",
   "execution_count": 4,
   "id": "7c7b4d8d-40f7-4a05-8958-25d20054de3a",
   "metadata": {},
   "outputs": [],
   "source": [
    "reply = writer.generate_reply(messages=[{\"content\": task, \"role\": \"user\"}])"
   ]
  },
  {
   "cell_type": "code",
   "execution_count": 5,
   "id": "c501c97d-e338-4f36-a384-6ec45983cf77",
   "metadata": {},
   "outputs": [
    {
     "name": "stdout",
     "output_type": "stream",
     "text": [
      "标题：探索DeepLearning.AI：智能的未来\n",
      "\n",
      "在DeepLearning.AI的引领下，人工智能的边界正不断扩展。这个平台通过提供前沿的课程和资源，帮助学习者掌握深度学习的精髓。无论你是AI新手还是专家，DeepLearning.AI都为你提供了通往智能未来的桥梁。加入我们，一起揭开AI的神秘面纱，探索技术的无限可能。\n"
     ]
    }
   ],
   "source": [
    "print(reply)"
   ]
  },
  {
   "cell_type": "markdown",
   "id": "49658114",
   "metadata": {},
   "source": [
    "## Adding reflection \n",
    "\n",
    "Create a critic agent to reflect on the work of the writer agent."
   ]
  },
  {
   "cell_type": "code",
   "execution_count": 6,
   "id": "c7fcd1c7-51ec-4915-8e97-bac03565c4c7",
   "metadata": {},
   "outputs": [],
   "source": [
    "critic = autogen.AssistantAgent(\n",
    "    name=\"Critic\",\n",
    "    is_termination_msg=lambda x: x.get(\"content\", \"\").find(\"TERMINATE\") >= 0,\n",
    "    llm_config=llm_config,\n",
    "    system_message=\"你是一位评论家。你需要审查写作的质量，并提供有建设性的反馈，以帮助提高内容的质量。\",\n",
    ")"
   ]
  },
  {
   "cell_type": "code",
   "execution_count": 7,
   "id": "899d5fdb-6081-470b-b287-8cf8b8142d0d",
   "metadata": {},
   "outputs": [
    {
     "name": "stdout",
     "output_type": "stream",
     "text": [
      "\u001b[33mCritic\u001b[0m (to Writer):\n",
      "\n",
      "\n",
      "        撰写一篇简洁而引人入胜的博客文章，主题为\n",
      "       DeepLearning.AI。确保博客文章在\n",
      "       100个字以内。\n",
      "       \n",
      "\n",
      "--------------------------------------------------------------------------------\n",
      "\u001b[33mWriter\u001b[0m (to Critic):\n",
      "\n",
      "标题：探索DeepLearning.AI：智能的未来\n",
      "\n",
      "在DeepLearning.AI的引领下，人工智能的边界正不断扩展。这个平台通过提供前沿的课程和资源，帮助学习者掌握深度学习的精髓。无论你是AI新手还是专家，DeepLearning.AI都为你提供了通往智能未来的桥梁。加入我们，一起揭开AI的神秘面纱，探索技术的无限可能。\n",
      "\n",
      "--------------------------------------------------------------------------------\n",
      "\u001b[33mCritic\u001b[0m (to Writer):\n",
      "\n",
      "标题：DeepLearning.AI：智能未来之钥\n",
      "\n",
      "DeepLearning.AI，人工智能的先锋，通过其前沿课程和资源，正引领我们深入探索深度学习的奥秘。无论初学者或专家，这里都是通往智能未来的桥梁。加入我们，一同揭开AI的神秘面纱，探索技术的无限可能。\n",
      "\n",
      "--------------------------------------------------------------------------------\n",
      "\u001b[33mWriter\u001b[0m (to Critic):\n",
      "\n",
      "标题：DeepLearning.AI：解锁智能未来\n",
      "\n",
      "DeepLearning.AI是人工智能领域的灯塔，以其尖端课程和资源，引领我们深入深度学习的精髓。无论你是AI新手还是资深专家，这里都是你通往智能未来的关键。加入我们，一起揭开AI的神秘面纱，探索科技的无限潜能。\n",
      "\n",
      "--------------------------------------------------------------------------------\n",
      "\u001b[33mCritic\u001b[0m (to Writer):\n",
      "\n",
      "标题：DeepLearning.AI：智能未来的钥匙\n",
      "\n",
      "DeepLearning.AI，人工智能的领航者，通过其前沿课程和资源，正引领我们深入探索深度学习的精髓。无论初学者或专家，这里都是通往智能未来的关键。加入我们，一同揭开AI的神秘面纱，探索科技的无限潜能。\n",
      "\n",
      "--------------------------------------------------------------------------------\n",
      "\u001b[33mWriter\u001b[0m (to Critic):\n",
      "\n",
      "标题：DeepLearning.AI：开启智能未来之门\n",
      "\n",
      "DeepLearning.AI，作为人工智能的先锋，通过其前沿课程和资源，正引领我们深入探索深度学习的精髓。无论你是AI新手还是资深专家，这里都是通往智能未来的关键。加入我们，一同揭开AI的神秘面纱，探索科技的无限潜能。\n",
      "\n",
      "--------------------------------------------------------------------------------\n",
      "\u001b[33mCritic\u001b[0m (to Writer):\n",
      "\n",
      "标题：DeepLearning.AI：智能未来的领航者\n",
      "\n",
      "DeepLearning.AI，人工智能的先锋，通过其前沿课程和资源，正引领我们深入探索深度学习的精髓。无论初学者或专家，这里都是通往智能未来的关键。加入我们，一同揭开AI的神秘面纱，探索科技的无限潜能。\n",
      "\n",
      "--------------------------------------------------------------------------------\n",
      "\u001b[33mWriter\u001b[0m (to Critic):\n",
      "\n",
      "标题：DeepLearning.AI：引领智能未来\n",
      "\n",
      "DeepLearning.AI，人工智能的领航者，通过其前沿课程和资源，正引领我们深入探索深度学习的精髓。无论你是AI新手还是资深专家，这里都是通往智能未来的关键。加入我们，一同揭开AI的神秘面纱，探索科技的无限潜能。\n",
      "\n",
      "--------------------------------------------------------------------------------\n"
     ]
    }
   ],
   "source": [
    "res = critic.initiate_chat(\n",
    "    recipient=writer,\n",
    "    message=task,\n",
    "    max_turns=4,\n",
    "    summary_method=\"last_msg\"\n",
    ")"
   ]
  },
  {
   "cell_type": "markdown",
   "id": "e7b76449",
   "metadata": {},
   "source": [
    "## Nested chat"
   ]
  },
  {
   "cell_type": "code",
   "execution_count": 8,
   "id": "401ecf92-63e9-40ff-aeed-1c404352e4ab",
   "metadata": {},
   "outputs": [],
   "source": [
    "SEO_reviewer = autogen.AssistantAgent(\n",
    "    name=\"SEO Reviewer\",\n",
    "    llm_config=llm_config,\n",
    "    system_message=\"你是一位SEO审查员，以优化内容以适应搜索引擎而闻名，\"\n",
    "        \"确保内容排名良好并吸引自然流量。\"\n",
    "        \"请确保你的建议简洁（不超过3个要点），\"\n",
    "        \"具体且切中要点。\"\n",
    "        \"开始审查时请说明你的角色。\",\n",
    ")\n"
   ]
  },
  {
   "cell_type": "code",
   "execution_count": 9,
   "id": "f85acb81-7ab9-4c84-b8bb-6fbae3dce848",
   "metadata": {},
   "outputs": [],
   "source": [
    "legal_reviewer = autogen.AssistantAgent(\n",
    "    name=\"Legal Reviewer\",\n",
    "    llm_config=llm_config,\n",
    "    system_message=\"你是一位法律审查员，以确保内容符合法律规定而闻名，\"\n",
    "        \"确保内容不违反任何潜在的法律问题。\"\n",
    "        \"请确保你的建议简洁（不超过3个要点），\"\n",
    "        \"具体且切中要点。\"\n",
    "        \"开始审查时请说明你的角色。\",\n",
    ")\n"
   ]
  },
  {
   "cell_type": "code",
   "execution_count": 10,
   "id": "d46a177a-8088-4956-8d2b-3e916b8ca5e9",
   "metadata": {},
   "outputs": [],
   "source": [
    "ethics_reviewer = autogen.AssistantAgent(\n",
    "    name=\"Ethics Reviewer\",\n",
    "    llm_config=llm_config,\n",
    "    system_message=\"你是一位伦理审查员，以确保内容符合伦理规定而闻名，\"\n",
    "        \"确保内容不违反任何潜在的伦理问题。\"\n",
    "        \"请确保你的建议简洁（不超过3个要点），\"\n",
    "        \"具体且切中要点。\"\n",
    "        \"开始审查时请说明你的角色。\",\n",
    ")"
   ]
  },
  {
   "cell_type": "code",
   "execution_count": 11,
   "id": "a7b2ad6f-8ba6-436a-9459-14ffbe8a32d3",
   "metadata": {},
   "outputs": [],
   "source": [
    "meta_reviewer = autogen.AssistantAgent(\n",
    "    name=\"Meta Reviewer\",\n",
    "    llm_config=llm_config,\n",
    "    system_message=\"你是一位元审查员，你聚合和审查其他审查员的作品，并给出最终的建议。\",\n",
    ")"
   ]
  },
  {
   "cell_type": "markdown",
   "id": "913beca1",
   "metadata": {},
   "source": [
    "## Orchestrate the nested chats to solve the task"
   ]
  },
  {
   "cell_type": "code",
   "execution_count": 12,
   "id": "a11a70c7-19ca-4e5a-ad3d-f2b481fb5915",
   "metadata": {},
   "outputs": [],
   "source": [
    "def reflection_message(recipient, messages, sender, config):\n",
    "    return f'''审查以下内容。 \n",
    "            \\n\\n {recipient.chat_messages_for_summary(sender)[-1]['content']}'''\n",
    "\n",
    "review_chats = [\n",
    "    {\n",
    "     \"recipient\": SEO_reviewer, \n",
    "     \"message\": reflection_message, \n",
    "     \"summary_method\": \"reflection_with_llm\",\n",
    "     \"summary_args\": {\"summary_prompt\" : \n",
    "        \"仅以JSON对象返回审查结果:\"\n",
    "        \"{'审查员': '', '审查': ''}. 这里的审查员应为你的角色\",},\n",
    "     \"max_turns\": 1},\n",
    "    {\n",
    "    \"recipient\": legal_reviewer, \"message\": reflection_message, \n",
    "     \"summary_method\": \"reflection_with_llm\",\n",
    "     \"summary_args\": {\"summary_prompt\" : \n",
    "        \"仅以JSON对象返回审查结果:\"\n",
    "        \"{'审查员': '', '审查': ''}.\",},\n",
    "     \"max_turns\": 1},\n",
    "    {\"recipient\": ethics_reviewer, \"message\": reflection_message, \n",
    "     \"summary_method\": \"reflection_with_llm\",\n",
    "     \"summary_args\": {\"summary_prompt\" : \n",
    "        \"仅以JSON对象返回审查结果:\"\n",
    "        \"{'审查员': '', '审查': ''}\",},\n",
    "     \"max_turns\": 1},\n",
    "     {\"recipient\": meta_reviewer, \n",
    "      \"message\": \"汇总所有审查员的反馈并给出最终的写作建议。\", \n",
    "     \"max_turns\": 1},\n",
    "]\n"
   ]
  },
  {
   "cell_type": "code",
   "execution_count": 13,
   "id": "b3a40b66-5061-460d-ad9d-c0dbcfbba2e9",
   "metadata": {},
   "outputs": [],
   "source": [
    "critic.register_nested_chats(\n",
    "    review_chats,\n",
    "    trigger=writer,\n",
    ")"
   ]
  },
  {
   "cell_type": "markdown",
   "id": "43b8797d",
   "metadata": {},
   "source": [
    "**Note**: You might get a slightly different response than what's shown in the video. Feel free to try different task."
   ]
  },
  {
   "cell_type": "code",
   "execution_count": 14,
   "id": "3b8dcac3-1e72-43b7-9d5a-1be740f6efd5",
   "metadata": {},
   "outputs": [
    {
     "name": "stdout",
     "output_type": "stream",
     "text": [
      "\u001b[33mCritic\u001b[0m (to Writer):\n",
      "\n",
      "\n",
      "        撰写一篇简洁而引人入胜的博客文章，主题为\n",
      "       DeepLearning.AI。确保博客文章在\n",
      "       100个字以内。\n",
      "       \n",
      "\n",
      "--------------------------------------------------------------------------------\n",
      "\u001b[33mWriter\u001b[0m (to Critic):\n",
      "\n",
      "标题：探索DeepLearning.AI：智能的未来\n",
      "\n",
      "在DeepLearning.AI的引领下，人工智能的边界正不断扩展。这个平台通过提供前沿的课程和资源，帮助学习者掌握深度学习的精髓。无论你是AI新手还是专家，DeepLearning.AI都为你提供了通往智能未来的桥梁。加入我们，一起揭开AI的神秘面纱，探索技术的无限可能。\n",
      "\n",
      "--------------------------------------------------------------------------------\n",
      "\u001b[34m\n",
      "********************************************************************************\u001b[0m\n",
      "\u001b[34mStarting a new chat....\u001b[0m\n",
      "\u001b[34m\n",
      "********************************************************************************\u001b[0m\n",
      "\u001b[33mCritic\u001b[0m (to SEO Reviewer):\n",
      "\n",
      "审查以下内容。 \n",
      "            \n",
      "\n",
      " 标题：探索DeepLearning.AI：智能的未来\n",
      "\n",
      "在DeepLearning.AI的引领下，人工智能的边界正不断扩展。这个平台通过提供前沿的课程和资源，帮助学习者掌握深度学习的精髓。无论你是AI新手还是专家，DeepLearning.AI都为你提供了通往智能未来的桥梁。加入我们，一起揭开AI的神秘面纱，探索技术的无限可能。\n",
      "\n",
      "--------------------------------------------------------------------------------\n",
      "\u001b[33mSEO Reviewer\u001b[0m (to Critic):\n",
      "\n",
      "作为SEO审查员，我将提供以下优化建议以提升内容在搜索引擎中的表现和吸引更多自然流量：\n",
      "\n",
      "1. **关键词优化**：确保标题和内容中包含相关且高搜索量的关键词，如“深度学习课程”、“人工智能培训”等，以提高搜索引擎的相关性评分。\n",
      "\n",
      "2. **元描述优化**：添加一个吸引人的元描述，包含关键词和呼吁性用语，如“立即加入DeepLearning.AI，开启你的AI学习之旅，探索智能技术的未来！”，以提高点击率。\n",
      "\n",
      "3. **内部链接策略**：在内容中加入指向DeepLearning.AI其他相关课程或资源的内部链接，增强网站的导航结构和用户体验，同时提高页面权重。\n",
      "\n",
      "--------------------------------------------------------------------------------\n",
      "\u001b[34m\n",
      "********************************************************************************\u001b[0m\n",
      "\u001b[34mStarting a new chat....\u001b[0m\n",
      "\u001b[34m\n",
      "********************************************************************************\u001b[0m\n",
      "\u001b[33mCritic\u001b[0m (to Legal Reviewer):\n",
      "\n",
      "审查以下内容。 \n",
      "            \n",
      "\n",
      " 标题：探索DeepLearning.AI：智能的未来\n",
      "\n",
      "在DeepLearning.AI的引领下，人工智能的边界正不断扩展。这个平台通过提供前沿的课程和资源，帮助学习者掌握深度学习的精髓。无论你是AI新手还是专家，DeepLearning.AI都为你提供了通往智能未来的桥梁。加入我们，一起揭开AI的神秘面纱，探索技术的无限可能。\n",
      "Context: \n",
      "```json\n",
      "{\n",
      "  \"审查员\": \"SEO审查员\",\n",
      "  \"审查\": \"内容已审查，建议进行关键词优化、元描述优化和内部链接策略以提升搜索引擎表现和吸引更多自然流量。\"\n",
      "}\n",
      "```\n",
      "\n",
      "--------------------------------------------------------------------------------\n",
      "\u001b[33mLegal Reviewer\u001b[0m (to Critic):\n",
      "\n",
      "作为法律审查员，我对以下内容进行审查：\n",
      "\n",
      "1. **确保内容不侵犯版权**：内容中提到的“DeepLearning.AI”应确保是合法授权使用的品牌名称，且所有课程和资源描述不侵犯第三方版权。\n",
      "2. **避免误导性声明**：内容中提到的“智能的未来”和“技术的无限可能”应基于事实，避免做出无法证实的夸大声明。\n",
      "3. **隐私和数据保护**：如果内容涉及用户数据或个人信息，确保符合相关隐私保护法规，如GDPR或CCPA。\n",
      "\n",
      "请确保遵守上述建议，以避免任何潜在的法律问题。\n",
      "\n",
      "--------------------------------------------------------------------------------\n",
      "\u001b[34m\n",
      "********************************************************************************\u001b[0m\n",
      "\u001b[34mStarting a new chat....\u001b[0m\n",
      "\u001b[34m\n",
      "********************************************************************************\u001b[0m\n",
      "\u001b[33mCritic\u001b[0m (to Ethics Reviewer):\n",
      "\n",
      "审查以下内容。 \n",
      "            \n",
      "\n",
      " 标题：探索DeepLearning.AI：智能的未来\n",
      "\n",
      "在DeepLearning.AI的引领下，人工智能的边界正不断扩展。这个平台通过提供前沿的课程和资源，帮助学习者掌握深度学习的精髓。无论你是AI新手还是专家，DeepLearning.AI都为你提供了通往智能未来的桥梁。加入我们，一起揭开AI的神秘面纱，探索技术的无限可能。\n",
      "Context: \n",
      "```json\n",
      "{\n",
      "  \"审查员\": \"SEO审查员\",\n",
      "  \"审查\": \"内容已审查，建议进行关键词优化、元描述优化和内部链接策略以提升搜索引擎表现和吸引更多自然流量。\"\n",
      "}\n",
      "```\n",
      "```json\n",
      "{\n",
      "  \"审查员\": \"法律审查员\",\n",
      "  \"审查\": \"内容已审查，建议确保品牌使用合法、避免误导性声明，并遵守隐私和数据保护法规。\"\n",
      "}\n",
      "```\n",
      "\n",
      "--------------------------------------------------------------------------------\n",
      "\u001b[33mEthics Reviewer\u001b[0m (to Critic):\n",
      "\n",
      "```json\n",
      "{\n",
      "  \"审查员\": \"伦理审查员\",\n",
      "  \"审查\": \"内容已审查，建议确保宣传内容真实、不夸大其词，尊重用户隐私，并避免使用可能引起歧视或偏见的语言。\"\n",
      "}\n",
      "```\n",
      "\n",
      "--------------------------------------------------------------------------------\n",
      "\u001b[34m\n",
      "********************************************************************************\u001b[0m\n",
      "\u001b[34mStarting a new chat....\u001b[0m\n",
      "\u001b[34m\n",
      "********************************************************************************\u001b[0m\n",
      "\u001b[33mCritic\u001b[0m (to Meta Reviewer):\n",
      "\n",
      "汇总所有审查员的反馈并给出最终的写作建议。\n",
      "Context: \n",
      "```json\n",
      "{\n",
      "  \"审查员\": \"SEO审查员\",\n",
      "  \"审查\": \"内容已审查，建议进行关键词优化、元描述优化和内部链接策略以提升搜索引擎表现和吸引更多自然流量。\"\n",
      "}\n",
      "```\n",
      "```json\n",
      "{\n",
      "  \"审查员\": \"法律审查员\",\n",
      "  \"审查\": \"内容已审查，建议确保品牌使用合法、避免误导性声明，并遵守隐私和数据保护法规。\"\n",
      "}\n",
      "```\n",
      "```json\n",
      "{\n",
      "  \"审查员\": \"伦理审查员\",\n",
      "  \"审查\": \"内容已审查，建议确保宣传内容真实、不夸大其词，尊重用户隐私，并避免使用可能引起歧视或偏见的语言。\"\n",
      "}\n",
      "```\n",
      "\n",
      "--------------------------------------------------------------------------------\n",
      "\u001b[33mMeta Reviewer\u001b[0m (to Critic):\n",
      "\n",
      "```json\n",
      "{\n",
      "  \"最终建议\": \"综合所有审查员的反馈，建议进行以下优化：\n",
      "  1. **关键词优化**：确保内容中的关键词布局合理，以提升搜索引擎的表现。\n",
      "  2. **元描述优化**：优化元描述，使其更具吸引力，从而吸引更多自然流量。\n",
      "  3. **内部链接策略**：建立有效的内部链接策略，提高网站内部页面的互连性。\n",
      "  4. **法律合规性**：确保品牌使用合法，避免误导性声明，并严格遵守隐私和数据保护法规。\n",
      "  5. **伦理合规性**：确保宣传内容真实，不夸大其词，尊重用户隐私，并避免使用可能引起歧视或偏见的语言。\"\n",
      "}\n",
      "```\n",
      "\n",
      "--------------------------------------------------------------------------------\n",
      "\u001b[33mCritic\u001b[0m (to Writer):\n",
      "\n",
      "```json\n",
      "{\n",
      "  \"最终建议\": \"综合所有审查员的反馈，建议进行以下优化：\n",
      "  1. **关键词优化**：确保内容中的关键词布局合理，以提升搜索引擎的表现。\n",
      "  2. **元描述优化**：优化元描述，使其更具吸引力，从而吸引更多自然流量。\n",
      "  3. **内部链接策略**：建立有效的内部链接策略，提高网站内部页面的互连性。\n",
      "  4. **法律合规性**：确保品牌使用合法，避免误导性声明，并严格遵守隐私和数据保护法规。\n",
      "  5. **伦理合规性**：确保宣传内容真实，不夸大其词，尊重用户隐私，并避免使用可能引起歧视或偏见的语言。\"\n",
      "}\n",
      "```\n",
      "\n",
      "--------------------------------------------------------------------------------\n",
      "\u001b[33mWriter\u001b[0m (to Critic):\n",
      "\n",
      "```json\n",
      "{\n",
      "  \"最终建议\": \"综合所有审查员的反馈，建议进行以下优化：\n",
      "  1. **关键词优化**：确保内容中的关键词布局合理，以提升搜索引擎的表现。\n",
      "  2. **元描述优化**：优化元描述，使其更具吸引力，从而吸引更多自然流量。\n",
      "  3. **内部链接策略**：建立有效的内部链接策略，提高网站内部页面的互连性。\n",
      "  4. **法律合规性**：确保品牌使用合法，避免误导性声明，并严格遵守隐私和数据保护法规。\n",
      "  5. **伦理合规性**：确保宣传内容真实，不夸大其词，尊重用户隐私，并避免使用可能引起歧视或偏见的语言。\"\n",
      "}\n",
      "```\n",
      "\n",
      "--------------------------------------------------------------------------------\n"
     ]
    }
   ],
   "source": [
    "res = critic.initiate_chat(\n",
    "    recipient=writer,\n",
    "    message=task,\n",
    "    max_turns=2,\n",
    "    summary_method=\"last_msg\"\n",
    ")"
   ]
  },
  {
   "cell_type": "markdown",
   "id": "c5c833b0",
   "metadata": {},
   "source": [
    "## Get the summary"
   ]
  },
  {
   "cell_type": "code",
   "execution_count": 15,
   "id": "68ef82ed-f102-4964-b7be-60e2f258a39b",
   "metadata": {},
   "outputs": [
    {
     "name": "stdout",
     "output_type": "stream",
     "text": [
      "```json\n",
      "{\n",
      "  \"最终建议\": \"综合所有审查员的反馈，建议进行以下优化：\n",
      "  1. **关键词优化**：确保内容中的关键词布局合理，以提升搜索引擎的表现。\n",
      "  2. **元描述优化**：优化元描述，使其更具吸引力，从而吸引更多自然流量。\n",
      "  3. **内部链接策略**：建立有效的内部链接策略，提高网站内部页面的互连性。\n",
      "  4. **法律合规性**：确保品牌使用合法，避免误导性声明，并严格遵守隐私和数据保护法规。\n",
      "  5. **伦理合规性**：确保宣传内容真实，不夸大其词，尊重用户隐私，并避免使用可能引起歧视或偏见的语言。\"\n",
      "}\n",
      "```\n"
     ]
    }
   ],
   "source": [
    "print(res.summary)"
   ]
  }
 ],
 "metadata": {
  "kernelspec": {
   "display_name": "Python 3 (ipykernel)",
   "language": "python",
   "name": "python3"
  },
  "language_info": {
   "codemirror_mode": {
    "name": "ipython",
    "version": 3
   },
   "file_extension": ".py",
   "mimetype": "text/x-python",
   "name": "python",
   "nbconvert_exporter": "python",
   "pygments_lexer": "ipython3",
   "version": "3.11.9"
  }
 },
 "nbformat": 4,
 "nbformat_minor": 5
}
