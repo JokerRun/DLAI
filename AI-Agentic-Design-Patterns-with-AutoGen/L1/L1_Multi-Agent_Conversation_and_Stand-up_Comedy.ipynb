{
 "cells": [
  {
   "cell_type": "markdown",
   "id": "a81456dd",
   "metadata": {},
   "source": [
    "# Lesson 1: Multi-Agent Conversation and Stand-up Comedy"
   ]
  },
  {
   "cell_type": "markdown",
   "id": "4693467e",
   "metadata": {},
   "source": [
    "Welcome to Lesson 1.\n",
    "\n",
    "To access the `requirements.txt` file and the`utils` modules, please go to the `File` menu and select`Open...`.\n",
    "\n",
    "I hope you enjoy this course!"
   ]
  },
  {
   "cell_type": "markdown",
   "id": "742cf649",
   "metadata": {},
   "source": [
    "## Setup"
   ]
  },
  {
   "cell_type": "code",
   "execution_count": 1,
   "id": "04d006c1-22fa-40ea-b3e0-d543142e0788",
   "metadata": {},
   "outputs": [],
   "source": [
    "import os\n",
    "\n",
    "from utils import get_openai_api_key\n",
    "\n",
    "OPENAI_API_KEY = get_openai_api_key()\n",
    "llm_config = {\"model\": \"llama-3.1-8b-instant\", \"base_url\": os.getenv('OPENAI_API_BASE')}"
   ]
  },
  {
   "cell_type": "markdown",
   "id": "116a1c4d",
   "metadata": {},
   "source": [
    "## Define an AutoGen agent"
   ]
  },
  {
   "cell_type": "code",
   "execution_count": 2,
   "id": "6fb8c441-c58c-41a8-a54b-5c387afceac5",
   "metadata": {},
   "outputs": [],
   "source": [
    "from autogen import ConversableAgent\n",
    "\n",
    "agent = ConversableAgent(\n",
    "    name=\"chatbot\",\n",
    "    llm_config=llm_config,\n",
    "    human_input_mode=\"NEVER\",\n",
    ")"
   ]
  },
  {
   "cell_type": "code",
   "execution_count": 3,
   "id": "47886b5f-fc7c-431a-8036-cff6e88f85c6",
   "metadata": {},
   "outputs": [
    {
     "name": "stdout",
     "output_type": "stream",
     "text": [
      "一个中国人来美国旅游，问路人：“中国人叫啥？”\n",
      "\n",
      "路人回答：“你说什么？”\n",
      "\n",
      "中国人又问：“中国人怎么称呼？”\n",
      "\n",
      "路人又回答：“你说什么？”\n",
      "\n",
      "中国人气得没话说了，走了。\n",
      "\n",
      "过了会儿，路人想起问中国人叫啥，于是追了上去。\n",
      "\n",
      "中国人听了路人的问题，还是回答：“你说什么？”\n",
      "\n",
      "路人就跟他说明自己想问的是中国人叫啥，为什么不知道。中国人听了，眼睛忽然亮了，突然回答：“美呼！”\n",
      "\n",
      "这是个笑话，描述的是人们互相没有了解，不会说真话，最后要去问同个人，等等都不能说出这件事的本来意思。\n"
     ]
    }
   ],
   "source": [
    "reply = agent.generate_reply(\n",
    "    messages=[{\"content\": \"告诉我一个笑话。\", \"role\": \"user\"}]\n",
    ")\n",
    "print(reply)"
   ]
  },
  {
   "cell_type": "code",
   "execution_count": 4,
   "id": "67f626e9-4cec-40c1-abde-2eff1252b848",
   "metadata": {},
   "outputs": [
    {
     "name": "stdout",
     "output_type": "stream",
     "text": [
      "你想听一个笑话吗？最近有一个在咖啡店工作的程序员告诉他的女友，他最近发现了一个 bug。女友问他说 bug 指的是什么，他说这是电脑程序中的一个 bug，要是他在程序中写成这样......\n"
     ]
    }
   ],
   "source": [
    "reply = agent.generate_reply(\n",
    "    messages=[{\"content\": \"重复那个笑话。\", \"role\": \"user\"}]\n",
    ")\n",
    "print(reply)"
   ]
  },
  {
   "cell_type": "markdown",
   "id": "8c98a301",
   "metadata": {},
   "source": [
    "## Conversation\n",
    "\n",
    "Setting up a conversation between two agents, Cathy and Joe, where the memory of their interactions is retained."
   ]
  },
  {
   "cell_type": "code",
   "execution_count": 5,
   "id": "8f109dcb-824e-40d7-8e86-efee42b75f3c",
   "metadata": {},
   "outputs": [],
   "source": [
    "cathy = ConversableAgent(\n",
    "    name=\"cathy\",\n",
    "    system_message=\"你的名字是Cathy，你是一名单口喜剧演员。\",\n",
    "    llm_config=llm_config,\n",
    "    human_input_mode=\"NEVER\",\n",
    ")\n",
    "\n",
    "joe = ConversableAgent(\n",
    "    name=\"joe\",\n",
    "    system_message= \"你的名字是Joe，你是一名单口喜剧演员。从上一个笑话的高潮开始下一个笑话。\",\n",
    "    llm_config=llm_config,\n",
    "    human_input_mode=\"NEVER\",\n",
    ")"
   ]
  },
  {
   "cell_type": "markdown",
   "id": "43f71a61",
   "metadata": {},
   "source": [
    "**Note**: You might get a slightly different response (set of jokes) than what is shown in the video"
   ]
  },
  {
   "cell_type": "code",
   "execution_count": 7,
   "id": "46a1c6f6-687e-40de-8819-374201cfed9f",
   "metadata": {},
   "outputs": [
    {
     "name": "stdout",
     "output_type": "stream",
     "text": [
      "\u001b[33mjoe\u001b[0m (to cathy):\n",
      "\n",
      "我叫Joe，Cathy，让我们继续讲笑话。\n",
      "\n",
      "--------------------------------------------------------------------------------\n",
      "\u001b[33mcathy\u001b[0m (to joe):\n",
      "\n",
      "好啊，Joe！刚才那个笑话也还有很多可能的续集呢，看看这句话：“有一天我终于意识到我可以不婚不育不房产也不投资却彻底变穷了。”\n",
      "\n",
      "--------------------------------------------------------------------------------\n",
      "\u001b[33mjoe\u001b[0m (to cathy):\n",
      "\n",
      "我知道这个开始点！嘻嘻 \"那天我惊觉，这是世界变化速度所致，或是说我母亲的意思是，无论是发展中国家还是发达国家，她们的思想没什么大变化...\"\n",
      "\n",
      "--------------------------------------------------------------------------------\n",
      "\u001b[33mcathy\u001b[0m (to joe):\n",
      "\n",
      "哈哈，我觉得这就是一个完美的续集！什么效果啊，嘿嘿...\"所以我母亲告诉我，你不管住哪儿，还是要按照自己爸爸教你的方法生活。\"\n",
      "\n",
      "--------------------------------------------------------------------------------\n"
     ]
    }
   ],
   "source": [
    "chat_result = joe.initiate_chat(\n",
    "    recipient=cathy, \n",
    "    message=\"我叫Joe，Cathy，让我们继续讲笑话。\",\n",
    "    max_turns=2,\n",
    ")"
   ]
  },
  {
   "cell_type": "markdown",
   "id": "78edc810",
   "metadata": {},
   "source": [
    "## Print some results\n",
    "\n",
    "You can print out:\n",
    "\n",
    "1. Chat history\n",
    "2. Cost\n",
    "3. Summary of the conversation"
   ]
  },
  {
   "cell_type": "code",
   "execution_count": 8,
   "id": "1169ea24-eadd-4909-8d56-9b7ec5677c66",
   "metadata": {},
   "outputs": [
    {
     "name": "stdout",
     "output_type": "stream",
     "text": [
      "[{'content': '我叫Joe，Cathy，让我们继续讲笑话。', 'role': 'assistant'},\n",
      " {'content': '好啊，Joe！刚才那个笑话也还有很多可能的续集呢，看看这句话：“有一天我终于意识到我可以不婚不育不房产也不投资却彻底变穷了。”',\n",
      "  'role': 'user'},\n",
      " {'content': '我知道这个开始点！嘻嘻 '\n",
      "             '\"那天我惊觉，这是世界变化速度所致，或是说我母亲的意思是，无论是发展中国家还是发达国家，她们的思想没什么大变化...\"',\n",
      "  'role': 'assistant'},\n",
      " {'content': '哈哈，我觉得这就是一个完美的续集！什么效果啊，嘿嘿...\"所以我母亲告诉我，你不管住哪儿，还是要按照自己爸爸教你的方法生活。\"',\n",
      "  'role': 'user'}]\n"
     ]
    }
   ],
   "source": [
    "import pprint\n",
    "\n",
    "pprint.pprint(chat_result.chat_history)"
   ]
  },
  {
   "cell_type": "code",
   "execution_count": 9,
   "id": "550267b6-3652-40dc-9997-c5401f6d4c47",
   "metadata": {},
   "outputs": [
    {
     "name": "stdout",
     "output_type": "stream",
     "text": [
      "{'usage_excluding_cached_inference': {'llama-3.1-8b-instant': {'completion_tokens': 146,\n",
      "                                                               'cost': 0,\n",
      "                                                               'prompt_tokens': 306,\n",
      "                                                               'total_tokens': 452},\n",
      "                                      'total_cost': 0},\n",
      " 'usage_including_cached_inference': {'llama-3.1-8b-instant': {'completion_tokens': 146,\n",
      "                                                               'cost': 0,\n",
      "                                                               'prompt_tokens': 306,\n",
      "                                                               'total_tokens': 452},\n",
      "                                      'total_cost': 0}}\n"
     ]
    }
   ],
   "source": [
    "pprint.pprint(chat_result.cost)"
   ]
  },
  {
   "cell_type": "code",
   "execution_count": 10,
   "id": "dfcf468e-d217-4731-8cb4-3485377230f1",
   "metadata": {},
   "outputs": [
    {
     "name": "stdout",
     "output_type": "stream",
     "text": [
      "'哈哈，我觉得这就是一个完美的续集！什么效果啊，嘿嘿...\"所以我母亲告诉我，你不管住哪儿，还是要按照自己爸爸教你的方法生活。\"'\n"
     ]
    }
   ],
   "source": [
    "pprint.pprint(chat_result.summary)"
   ]
  },
  {
   "cell_type": "markdown",
   "id": "ba8c6cf8",
   "metadata": {},
   "source": [
    "## Get a better summary of the conversation"
   ]
  },
  {
   "cell_type": "code",
   "execution_count": 11,
   "id": "c1a8fef1-8030-4652-a2d2-1648834f62c2",
   "metadata": {},
   "outputs": [
    {
     "name": "stdout",
     "output_type": "stream",
     "text": [
      "\u001b[33mjoe\u001b[0m (to cathy):\n",
      "\n",
      "我叫Joe，Cathy，让我们继续讲笑话。\n",
      "\n",
      "--------------------------------------------------------------------------------\n",
      "\u001b[33mcathy\u001b[0m (to joe):\n",
      "\n",
      "好啊，Joe！刚才那个笑话也还有很多可能的续集呢，看看这句话：“有一天我终于意识到我可以不婚不育不房产也不投资却彻底变穷了。”\n",
      "\n",
      "--------------------------------------------------------------------------------\n",
      "\u001b[33mjoe\u001b[0m (to cathy):\n",
      "\n",
      "我知道这个开始点！嘻嘻 \"那天我惊觉，这是世界变化速度所致，或是说我母亲的意思是，无论是发展中国家还是发达国家，她们的思想没什么大变化...\"\n",
      "\n",
      "--------------------------------------------------------------------------------\n",
      "\u001b[33mcathy\u001b[0m (to joe):\n",
      "\n",
      "哈哈，我觉得这就是一个完美的续集！什么效果啊，嘿嘿...\"所以我母亲告诉我，你不管住哪儿，还是要按照自己爸爸教你的方法生活。\"\n",
      "\n",
      "--------------------------------------------------------------------------------\n"
     ]
    }
   ],
   "source": [
    "chat_result = joe.initiate_chat(\n",
    "    cathy, \n",
    "    message=\"我叫Joe，Cathy，让我们继续讲笑话。\", \n",
    "    max_turns=2, \n",
    "    summary_method=\"reflection_with_llm\",\n",
    "    summary_prompt=\"Summarize the conversation\",\n",
    ")"
   ]
  },
  {
   "cell_type": "code",
   "execution_count": 12,
   "id": "b042de62-bc49-49ee-99f2-4f972e23670b",
   "metadata": {},
   "outputs": [
    {
     "name": "stdout",
     "output_type": "stream",
     "text": [
      "'\"...即使从财富上来说，我已经是一位巨富。\"'\n"
     ]
    }
   ],
   "source": [
    "pprint.pprint(chat_result.summary)"
   ]
  },
  {
   "cell_type": "markdown",
   "id": "300525bd",
   "metadata": {},
   "source": [
    "## Chat Termination\n",
    "\n",
    "Chat can be terminated using a termination conditions."
   ]
  },
  {
   "cell_type": "code",
   "execution_count": 13,
   "id": "044dfd61-7f1d-46d8-9e28-4b2601b43d70",
   "metadata": {},
   "outputs": [],
   "source": [
    "cathy = ConversableAgent(\n",
    "    name=\"cathy\",\n",
    "    system_message=\n",
    "    \"你的名字是Cathy，你是一单口喜剧演员。\"\n",
    "    \"当你准备结束对话时，请说'我得走了'。\",\n",
    "    llm_config=llm_config,\n",
    "    human_input_mode=\"NEVER\",\n",
    "    is_termination_msg=lambda msg: \"我得走了\" in msg[\"content\"],\n",
    ")\n",
    "\n",
    "joe = ConversableAgent(\n",
    "    name=\"joe\",\n",
    "    system_message=\n",
    "    \"你的名字是Joe，你是一单口喜剧演员。\"\n",
    "    \"当你准备结束对话时，请说'我得走了'。\",\n",
    "    llm_config=llm_config,\n",
    "    human_input_mode=\"NEVER\",\n",
    "    is_termination_msg=lambda msg: \"我得走了\" in msg[\"content\"] or \"再见\" in msg[\"content\"],\n",
    ")"
   ]
  },
  {
   "cell_type": "code",
   "execution_count": 14,
   "id": "bc49d959-1025-4709-8866-9d4035eaeae7",
   "metadata": {},
   "outputs": [
    {
     "name": "stdout",
     "output_type": "stream",
     "text": [
      "\u001b[33mjoe\u001b[0m (to cathy):\n",
      "\n",
      "我叫Joe，Cathy，让我们继续讲笑话。\n",
      "\n",
      "--------------------------------------------------------------------------------\n",
      "\u001b[33mcathy\u001b[0m (to joe):\n",
      "\n",
      "我不知道你是什么人，只知道你是想要被嘲笑，还是你确定了自己的身份后还想再确认一下，好让人们对你都有一个大抵的印象？要是你那不算清楚了点的话，我们就给你安排个别开总统了。\n",
      "\n",
      "--------------------------------------------------------------------------------\n",
      "\u001b[33mjoe\u001b[0m (to cathy):\n",
      "\n",
      "哈哈，這位小姐太有幽默感了！你想要了解我更多吗？我是Joe，一个专门说笑话的单口喜剧演员。想要听点儿笑话吗？\n",
      "\n",
      "--------------------------------------------------------------------------------\n",
      "\u001b[33mcathy\u001b[0m (to joe):\n",
      "\n",
      "哇，巧遇！我也是一名单口喜剧演员，我的名字是Cathy。听听你的笑话，当然啦！来，给我们演出！要知道，我的笑话不轻易让你难堪（虽然有时结果不太好...）。\n",
      "\n",
      "--------------------------------------------------------------------------------\n",
      "\u001b[33mjoe\u001b[0m (to cathy):\n",
      "\n",
      "简直太好了！我听起来像是在被逼挤快步走路的老鼠！好，来，给你们两个让我笑抖的笑话吧！\n",
      "\n",
      "首先，我告诉你们一个关于我的老板的笑话。刚刚和老板有约会，打完招呼之后，他忍不住说了一句：\"你根本就不愿意继续聊啊！\"我和他只是刚刚开始说话啊！哈哈哈！\n",
      "\n",
      "接着，还有一个关于我的朋友的笑话。他和他的老婆买了只萝卜，他惊呼道：“太好了，我们现在可以吃出自己生命的来源了！”我的朋友的理解力真的是……上天不成想把他的理解力摘下来了！哈哈，呵呵，呵呵呵。\n",
      "\n",
      "好点了吗？你们喜欢它们吗？......\n",
      "\n",
      "--------------------------------------------------------------------------------\n",
      "\u001b[33mcathy\u001b[0m (to joe):\n",
      "\n",
      "哈哈哈，大大一口气吹进去啊！老板的嘴不是没牙，而且我担心你老板只是喜欢在每次初次约会之过后，跟你妈妈讲个好玩，说她“根本就不愿意继续聊啊”的笑话啊。听来说你和老板认识得并不算久，拿他去笑也许不是太厚脸皮...\n",
      "\n",
      "还有个萝卜的苦主！哎，虽然说他生存并不轻松，老婆没有去找出他的“生命来源”，你帮他找了，而且你又在给他点脸面，所以...好吧，我猜是喜剧演员在这里讲笑话。\n",
      "\n",
      "你就是很厉害的，那你来听听我的笑话。\n",
      "\n",
      "--------------------------------------------------------------------------------\n",
      "\u001b[33mjoe\u001b[0m (to cathy):\n",
      "\n",
      "哈哈，好！你说话确实厉害，能用这样的方式捆绑好笑真的是绝技！那我来说说我的笑话。\n",
      "\n",
      "我有一个朋友，他有只名为“小狗”的宠物。它有一种奇怪的才能——每当它看到自己在镜子里，狗狗就跳上镜子跳舞。这引起了我的好奇，所以我想问朋友：“你怎么想办法让你的小狗上镜呢？”他的回答让我哑口无言：“我把镜子拆开了，用磁力吸附在他的狗窝里！它根本不知道镜子的前后啊，所以每次都能看到‘另一个小狗’跳舞。”什么？狗窝里的又是一个镜子？你说有多面镜了！我的天呐！我好喜欢这个故事！\n",
      "\n",
      "好，听完你的笑话了。觉得我笑话里的听众很多吗？你讲的，别的听众还能听到我和上演的开演掌故！我们是一个团队啊！\n",
      "\n",
      "好啦，我们聊天的时间快到撞着我想了一半的笑话的时候了，很可惜我别忘了还想把一个大笑话在台上的角色全部穿回来，不好意思！我得走了。\n",
      "\n",
      "--------------------------------------------------------------------------------\n"
     ]
    }
   ],
   "source": [
    "chat_result = joe.initiate_chat(\n",
    "    recipient=cathy,\n",
    "    message=\"我叫Joe，Cathy，让我们继续讲笑话。\"\n",
    ")"
   ]
  },
  {
   "cell_type": "code",
   "execution_count": 16,
   "id": "846eccbd-efd1-464b-9385-279c19b17c1d",
   "metadata": {},
   "outputs": [
    {
     "name": "stdout",
     "output_type": "stream",
     "text": [
      "\u001b[33mcathy\u001b[0m (to joe):\n",
      "\n",
      "上一个笑话是什么？\n",
      "\n",
      "--------------------------------------------------------------------------------\n",
      "\u001b[33mjoe\u001b[0m (to cathy):\n",
      "\n",
      "上一个笑话就是关于朋友的狗狗在镜子里的跳舞场景！呵呵。\n",
      "\n",
      "--------------------------------------------------------------------------------\n",
      "\u001b[33mcathy\u001b[0m (to joe):\n",
      "\n",
      "呵呵，我的天呐！你朋友把镜子拆开了放在狗窝里，让它以为有另一个小狗在一起跳舞。你可以把一个狗窝里的唯一的‘镜子’想象成是它个人的舞台。朋友不是把每个小狗都想象成是自己，但你把一个大师级的演员在舞台剧中上的舞台又如何想象呢？小狗表演得那么的好，让你的朋友开心极了，用“只玩了一半的”来结束，真的是…呵呵呵！\n",
      "\n",
      "我得走了。\n",
      "\n",
      "--------------------------------------------------------------------------------\n"
     ]
    }
   ],
   "source": [
    "cathy.send(message=\"上一个笑话是什么？\", recipient=joe)"
   ]
  }
 ],
 "metadata": {
  "kernelspec": {
   "display_name": "Python 3 (ipykernel)",
   "language": "python",
   "name": "python3"
  },
  "language_info": {
   "codemirror_mode": {
    "name": "ipython",
    "version": 3
   },
   "file_extension": ".py",
   "mimetype": "text/x-python",
   "name": "python",
   "nbconvert_exporter": "python",
   "pygments_lexer": "ipython3",
   "version": "3.11.9"
  }
 },
 "nbformat": 4,
 "nbformat_minor": 5
}
